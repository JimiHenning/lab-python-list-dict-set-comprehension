{
 "cells": [
  {
   "cell_type": "markdown",
   "id": "25d7736c-ba17-4aff-b6bb-66eba20fbf4e",
   "metadata": {},
   "source": [
    "# Lab | List, Dict and Set Comprehension"
   ]
  },
  {
   "cell_type": "markdown",
   "id": "7dd3cbde-675a-4b81-92c3-f728846dbe06",
   "metadata": {},
   "source": [
    "## Exercise: Managing Customer Orders Optimized with Comprehension"
   ]
  },
  {
   "cell_type": "markdown",
   "id": "5d500160-2fb7-4777-b5e4-09d45ebaf328",
   "metadata": {},
   "source": [
    "In the previous exercise, you developed a program to manage customer orders and inventory. Now, let's take it a step further and incorporate comprehension into your code.\n",
    "\n",
    "Follow the steps below to complete the exercise:\n",
    "\n",
    "1. Review your code from the previous exercise and identify areas where you can apply comprehension to simplify and streamline your code. \n",
    "\n",
    "    - *Hint: Apply it to initialize inventory, updating the inventory and printing the updated inventory.*\n",
    "    \n",
    "    - For example, in initializing the inventory, we could have:\n",
    "    \n",
    "        ```python\n",
    "        def initialize_inventory(products):\n",
    "            inventory = {product: int(input(f\"Enter the quantity of {product}s available: \")) for product in products}\n",
    "            return inventory\n",
    "\n",
    "        ```\n",
    "<br>\n",
    "    \n",
    "    \n",
    "2. Modify the function get_customer_orders so it prompts the user to enter the number of customer orders and gathers the product names using a loop and user input. Use comprehension.\n",
    "\n",
    "3. Add a new function to calculate the total price of the customer order. For each product in customer_orders, prompt the user to enter the price of that product. Use comprehension to calculate the total price. Note: assume that the user can only have 1 unit of each product.\n",
    "\n",
    "4. Modify the update_inventory function to remove the product from the inventory if its quantity becomes zero after fulfilling the customer orders. Use comprehension to filter out the products with a quantity of zero from the inventory.\n",
    "\n",
    "5. Print the total price of the customer order.\n",
    "\n",
    "Your code should produce output similar to the following:\n",
    "\n",
    "```python\n",
    "Enter the quantity of t-shirts available:  5\n",
    "Enter the quantity of mugs available:  4\n",
    "Enter the quantity of hats available:  3\n",
    "Enter the quantity of books available:  2\n",
    "Enter the quantity of keychains available:  1\n",
    "Enter the number of customer orders:  2\n",
    "Enter the name of a product that a customer wants to order:  hat\n",
    "Enter the name of a product that a customer wants to order:  keychain\n",
    "\n",
    "Order Statistics:\n",
    "Total Products Ordered: 2\n",
    "Percentage of Unique Products Ordered: 40.0\n",
    "\n",
    "Updated Inventory:\n",
    "t-shirt: 5\n",
    "mug: 4\n",
    "hat: 2\n",
    "book: 2\n",
    "Enter the price of keychain:  5\n",
    "Enter the price of hat:  10\n",
    "Total Price: 15.0\n",
    "\n",
    "```\n"
   ]
  },
  {
   "cell_type": "code",
   "execution_count": 4,
   "id": "c9b2e8ea-ed91-4c84-ab8e-505622e9c91c",
   "metadata": {},
   "outputs": [],
   "source": [
    "products = [\"t-shirt\", \"mug\", \"hat\", \"book\", \"keychain\"]\n",
    "def initialize_inventory(products):\n",
    "    \"\"\"\n",
    "    This function initializes and fills the inventory dictionary\n",
    "    using a loop and user input.\n",
    "    \"\"\"\n",
    "    inventory = {product: int(input(f\"How many {product}s are in the inventory?\")) for product in products}\n",
    "    print (\"The inventory contains the following items:\", inventory)\n",
    "    return inventory"
   ]
  },
  {
   "cell_type": "code",
   "execution_count": 6,
   "id": "b27c55fd-3e7f-4df5-896d-82f541bc1240",
   "metadata": {},
   "outputs": [],
   "source": [
    "def get_customer_orders():\n",
    "    \"\"\"\n",
    "    This function takes the amount of customer orders and the specific items through a loop\n",
    "    \"\"\"\n",
    "    \n",
    "    order_count = int(input(\"Enter the number of customer orders:\"))\n",
    "    customer_orders = {input(\"Enter the name of a product the customer wants to order:\") for i in range (order_count)}\n",
    "    \n",
    "    print (f\"The customer ordered: {customer_orders}\")\n",
    "    return customer_orders"
   ]
  },
  {
   "cell_type": "code",
   "execution_count": 8,
   "id": "451eb624-c735-4900-8529-3395c6e586e2",
   "metadata": {},
   "outputs": [],
   "source": [
    "def update_inventory (customer_orders, inventory):\n",
    "    inventory = {product:quantity for product, quantity in inventory.items() if quantity > 0}\n",
    "    inventory = {product: inventory[product] -1 if product in customer_orders else inventory[product] for product in inventory}\n",
    "    inventory = {product:quantity for product, quantity in inventory.items() if quantity > 0}\n",
    "    return inventory"
   ]
  },
  {
   "cell_type": "code",
   "execution_count": 10,
   "id": "c6af8f3a-69d1-4344-b4ac-9cf9635c743a",
   "metadata": {},
   "outputs": [],
   "source": [
    "def calculate_order_statistics (customer_orders, products):\n",
    "    total_products_ordered = len(customer_orders)\n",
    "    percentage = total_products_ordered/len(products)*100\n",
    "    return total_products_ordered, percentage\n",
    "\n"
   ]
  },
  {
   "cell_type": "code",
   "execution_count": 12,
   "id": "e71262cf-9b68-4835-897f-7aa0e4a242fc",
   "metadata": {},
   "outputs": [],
   "source": [
    "def print_order_statistics (order_statistics):\n",
    "    print (f\"The customer ordered {order_statistics[0]} products, that is {order_statistics[1]}% of the unique products!\")\n"
   ]
  },
  {
   "cell_type": "code",
   "execution_count": 16,
   "id": "3a68129a-dea5-4948-a793-039f35d0160a",
   "metadata": {},
   "outputs": [
    {
     "name": "stdin",
     "output_type": "stream",
     "text": [
      "How many t-shirts are in the inventory? 5\n",
      "How many mugs are in the inventory? 5\n",
      "How many hats are in the inventory? 5\n",
      "How many books are in the inventory? 5\n",
      "How many keychains are in the inventory? 5\n"
     ]
    },
    {
     "name": "stdout",
     "output_type": "stream",
     "text": [
      "The inventory contains the following items: {'t-shirt': 5, 'mug': 5, 'hat': 5, 'book': 5, 'keychain': 5}\n"
     ]
    },
    {
     "name": "stdin",
     "output_type": "stream",
     "text": [
      "Enter the number of customer orders: 4\n",
      "Enter the name of a product the customer wants to order: mug\n",
      "Enter the name of a product the customer wants to order: hat\n",
      "Enter the name of a product the customer wants to order: keychain\n",
      "Enter the name of a product the customer wants to order: mug\n"
     ]
    },
    {
     "name": "stdout",
     "output_type": "stream",
     "text": [
      "The customer ordered: {'hat', 'keychain', 'mug'}\n",
      "The updated inventory is:\n",
      "t-shirts: 5\n",
      "mugs: 4\n",
      "hats: 4\n",
      "books: 5\n",
      "keychains: 4\n",
      "The customer ordered 3 products, that is 60.0% of the unique products!\n"
     ]
    },
    {
     "name": "stdin",
     "output_type": "stream",
     "text": [
      "Enter the price of hat:  5\n",
      "Enter the price of keychain:  4\n",
      "Enter the price of mug:  3\n"
     ]
    },
    {
     "name": "stdout",
     "output_type": "stream",
     "text": [
      "total price:  12.0\n"
     ]
    }
   ],
   "source": [
    "def print_updated_inventory (inventory):\n",
    "    print (\"The updated inventory is:\")\n",
    "    {print (f\"{key}s: {value}\") for key, value in inventory.items()}\n",
    "\n",
    "def calculate_product_price (customer_orders):\n",
    "    total_price = [float(input(f\"Enter the price of {product}: \")) for product in customer_orders]\n",
    "    return sum(total_price)\n",
    "\n",
    "#init the inventory\n",
    "inventory = initialize_inventory(products)\n",
    "#get customer orders\n",
    "customer_orders = get_customer_orders()\n",
    "#update the inventory taking into consideration customer orders\n",
    "inventory = update_inventory(customer_orders,inventory)\n",
    "#calculate stats\n",
    "order_statistics = calculate_order_statistics(customer_orders, products)\n",
    "#print inventory\n",
    "print_updated_inventory(inventory)\n",
    "#print stats\n",
    "print_order_statistics (order_statistics)\n",
    "#calculate the price\n",
    "total_price = calculate_product_price (customer_orders)\n",
    "print(\"total price: \", total_price)\n",
    "\n"
   ]
  },
  {
   "cell_type": "code",
   "execution_count": null,
   "id": "2e36df56-8988-4a2e-b030-62794f7c2d77",
   "metadata": {},
   "outputs": [],
   "source": []
  }
 ],
 "metadata": {
  "kernelspec": {
   "display_name": "Python 3 (ipykernel)",
   "language": "python",
   "name": "python3"
  },
  "language_info": {
   "codemirror_mode": {
    "name": "ipython",
    "version": 3
   },
   "file_extension": ".py",
   "mimetype": "text/x-python",
   "name": "python",
   "nbconvert_exporter": "python",
   "pygments_lexer": "ipython3",
   "version": "3.12.4"
  }
 },
 "nbformat": 4,
 "nbformat_minor": 5
}
